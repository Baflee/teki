{
  "nbformat": 4,
  "nbformat_minor": 0,
  "metadata": {
    "colab": {
      "provenance": [],
      "include_colab_link": true
    },
    "kernelspec": {
      "name": "python3",
      "display_name": "Python 3"
    },
    "language_info": {
      "name": "python"
    }
  },
  "cells": [
    {
      "cell_type": "markdown",
      "metadata": {
        "id": "view-in-github",
        "colab_type": "text"
      },
      "source": [
        "<a href=\"https://colab.research.google.com/github/Baflee/teki/blob/main/TP4_chargement_mod%C3%A8le.ipynb\" target=\"_parent\"><img src=\"https://colab.research.google.com/assets/colab-badge.svg\" alt=\"Open In Colab\"/></a>"
      ]
    },
    {
      "cell_type": "markdown",
      "source": [
        "# Pour recharger un modèle"
      ],
      "metadata": {
        "id": "9anULNF5fPdp"
      }
    },
    {
      "cell_type": "code",
      "execution_count": null,
      "metadata": {
        "id": "wmJ7Fg4De-g7"
      },
      "outputs": [],
      "source": [
        "import tensorflow as tf\n",
        "import numpy as np\n",
        "import pandas as pd\n",
        "import matplotlib.pyplot as plt\n",
        "from sklearn.datasets import load_iris\n",
        "from sklearn.model_selection import train_test_split\n",
        "from sklearn.preprocessing import StandardScaler\n",
        "from sklearn.metrics import classification_report"
      ]
    },
    {
      "cell_type": "code",
      "source": [
        "import kagglehub\n",
        "path_jsondata_text_classification = kagglehub.dataset_download('jsonali2003/text-classification-dataset-for-sentiment-analysis')\n",
        "\n",
        "print('Data source import complete.')\n",
        "climate = pd.read_csv(r'/kaggle/input/text-classification-dataset-for-sentiment-analysis/ClimateChangeDataset.csv')\n",
        "climate.head()"
      ],
      "metadata": {
        "colab": {
          "base_uri": "https://localhost:8080/"
        },
        "id": "86qwwc8zf9cn",
        "outputId": "f50951d7-ad03-42f4-ada4-cd87a8ecb7ee"
      },
      "execution_count": null,
      "outputs": [
        {
          "output_type": "stream",
          "name": "stdout",
          "text": [
            "Data source import complete.\n",
            "<class 'pandas.core.frame.DataFrame'>\n"
          ]
        }
      ]
    },
    {
      "cell_type": "code",
      "source": [
        "texts = climate['sentence'].astype(str).tolist()\n",
        "\n",
        "sentiment_mapping = {'positive': 1, 'negative': 0}\n",
        "climate['sentiment'] = climate['sentiment'].map(sentiment_mapping)\n",
        "labels = climate['sentiment'].tolist()\n",
        "\n",
        "print(\"texte :\", texts[0])\n",
        "print(\"label : \\n\",labels[0])"
      ],
      "metadata": {
        "colab": {
          "base_uri": "https://localhost:8080/"
        },
        "id": "5k7g9C3Kii_F",
        "outputId": "b65e4442-1f69-4893-ae01-dd90dde603a5"
      },
      "execution_count": null,
      "outputs": [
        {
          "output_type": "stream",
          "name": "stdout",
          "text": [
            "texte : Climate change poses a grave threat to the planet's future.\n",
            "label : \n",
            " 1\n"
          ]
        }
      ]
    },
    {
      "cell_type": "code",
      "source": [
        "from tensorflow.keras.preprocessing.text import tokenizer_from_json\n",
        "import json\n",
        "\n",
        "# Chargement depuis le chemin spécifique\n",
        "with open(\"/content/drive/MyDrive/Modele_DL/tokenizer/tokenizer.json\", \"r\", encoding=\"utf-8\") as f:\n",
        "    tokenizer_json = f.read()\n",
        "\n",
        "tokenizer = tokenizer_from_json(tokenizer_json)\n"
      ],
      "metadata": {
        "id": "Fj09Dlh2hIzO"
      },
      "execution_count": null,
      "outputs": []
    },
    {
      "cell_type": "code",
      "source": [
        "# Pour recharger ensuite :\n",
        "loaded_model_h5 = tf.keras.models.load_model(\"/content/drive/MyDrive/Modele_DL/my_model_text_classification_utd.h5\")"
      ],
      "metadata": {
        "colab": {
          "base_uri": "https://localhost:8080/"
        },
        "id": "cz9Cb3Q7jyqV",
        "outputId": "6ddd525c-efbd-4e68-db07-98d8d1573c3d"
      },
      "execution_count": null,
      "outputs": [
        {
          "output_type": "stream",
          "name": "stderr",
          "text": [
            "WARNING:absl:Compiled the loaded model, but the compiled metrics have yet to be built. `model.compile_metrics` will be empty until you train or evaluate the model.\n"
          ]
        }
      ]
    },
    {
      "cell_type": "code",
      "source": [
        "# 7. Test sur un nouveau texte\n",
        "#new_text = [\"The rapid melting of glaciers is a dramatic consequence of global warming.\"]\n",
        "# ou\n",
        "new_text = [\"Climate change poses a grave threat to the planet's future.\"]\n",
        "\n",
        "\n",
        "# Prétraitement du texte\n",
        "seq = tokenizer.texts_to_sequences(new_text)  # Tokenisation\n",
        "padded = pad_sequences(seq, maxlen=max_len)  # Padding\n",
        "\n",
        "# Prédiction\n",
        "pred = loaded_model_h5.predict(padded)\n",
        "predicted_index = np.argmax(pred)\n",
        "\n",
        "\n",
        "# Mapping inverse pour retrouver la catégorie texte\n",
        "inverse_mapping = {v: k for k, v in sentiment_mapping.items()}\n",
        "''' print(inverse_mapping) '''\n",
        "predicted_class = inverse_mapping[predicted_index]\n",
        "\n",
        "# Affichage\n",
        "print(\"Texte :\", new_text[0])\n",
        "print(\"Catégorie prédite :\", predicted_class)"
      ],
      "metadata": {
        "colab": {
          "base_uri": "https://localhost:8080/"
        },
        "id": "dsGzjij1lC2k",
        "outputId": "263a615f-9b1d-487d-fcf0-81cf49d85912"
      },
      "execution_count": null,
      "outputs": [
        {
          "output_type": "stream",
          "name": "stdout",
          "text": [
            "\u001b[1m1/1\u001b[0m \u001b[32m━━━━━━━━━━━━━━━━━━━━\u001b[0m\u001b[37m\u001b[0m \u001b[1m0s\u001b[0m 117ms/step\n",
            "Texte : Climate change poses a grave threat to the planet's future.\n",
            "Catégorie prédite : positive\n"
          ]
        }
      ]
    }
  ]
}